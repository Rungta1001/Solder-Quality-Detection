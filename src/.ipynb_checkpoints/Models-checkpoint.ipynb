{
 "cells": [
  {
   "cell_type": "code",
   "execution_count": 1,
   "metadata": {},
   "outputs": [],
   "source": [
    "#REFERENCES:\n",
    "#https://medium.com/@tifa2up/image-classification-using-deep-neural-networks-a-beginner-friendly-approach-using-tensorflow-94b0a090ccd4\n",
    "#https://machinelearningmastery.com/how-to-develop-a-convolutional-neural-network-from-scratch-for-mnist-handwritten-digit-classification/"
   ]
  },
  {
   "cell_type": "code",
   "execution_count": 1,
   "metadata": {},
   "outputs": [
    {
     "name": "stderr",
     "output_type": "stream",
     "text": [
      "Using TensorFlow backend.\n"
     ]
    }
   ],
   "source": [
    "import numpy as np\n",
    "import pandas as pd\n",
    "import csv\n",
    "import cv2\n",
    "import glob\n",
    "import shutil\n",
    "import os\n",
    "import subprocess\n",
    "import random\n",
    "from keras.utils import to_categorical, plot_model\n",
    "from keras.models import Sequential\n",
    "from keras.layers import Conv2D, MaxPooling2D, Dense, Flatten, BatchNormalization\n",
    "from keras.optimizers import SGD\n",
    "from keras.wrappers.scikit_learn import KerasClassifier\n",
    "from sklearn.model_selection import GridSearchCV\n",
    "%matplotlib inline\n",
    "import matplotlib.pyplot as plt"
   ]
  },
  {
   "cell_type": "code",
   "execution_count": 2,
   "metadata": {},
   "outputs": [],
   "source": [
    "data_path = '/Users/dnyanadajoshi/OneDrive/Ono Project/data/0624/'\n",
    "\n",
    "#Conceptually global for this notebook\n",
    "detect = data_path+\"detection_data/\"\n",
    "positive_path = detect+\"positive/\"\n",
    "negative_path = detect+\"negative/\"\n",
    "results = \"../results/\"\n",
    "ext = \".bmp\""
   ]
  },
  {
   "cell_type": "code",
   "execution_count": 3,
   "metadata": {},
   "outputs": [],
   "source": [
    "#TODO: check pros and cons for os, subprocess, shutil - MAKE A NOTE SOMEWHERE\n",
    "def remove_nonsquares(negative):\n",
    "    \n",
    "    files = glob.glob(negative+\"*\"+ext)\n",
    "    for f in files:\n",
    "        img = cv2.imread(f,0)\n",
    "        if img.shape != (60,60):\n",
    "            os.remove(f)\n",
    "            \n",
    "def create_dataset(path):\n",
    "    \n",
    "    files = glob.glob(data_path+\"??_cropped/??_?/names_*.csv\")\n",
    "    subprocess.run([\"mkdir\", detect[:-1]])\n",
    "    subprocess.run([\"mkdir\", positive_path[:-1]])\n",
    "    subprocess.run([\"mkdir\", negative_path[:-1]])\n",
    "    output_file = open(detect+\"detection_labels.csv\",\"w\")\n",
    "    writer = csv.writer(output_file)\n",
    "    for fi in files:\n",
    "        with open(fi,\"r\") as f:\n",
    "            reader = csv.reader(f)\n",
    "            for row in reader:\n",
    "                (name, label) = tuple(row)\n",
    "                label_path = negative_path\n",
    "                if label == '1':\n",
    "                    label_path = positive_path\n",
    "                shutil.copyfile(data_path+name, label_path+name.split(\"/\")[-1])\n",
    "    remove_nonsquares(negative_path)\n",
    "    files = glob.glob(positive_path+\"*\"+ext)\n",
    "    for f in files:\n",
    "        writer.writerow([f, '1'])\n",
    "    files = glob.glob(negative_path+\"*\"+ext)\n",
    "    for f in files:\n",
    "        writer.writerow([f, '0'])\n",
    "    output_file.close()\n",
    "create_dataset(data_path)"
   ]
  },
  {
   "cell_type": "code",
   "execution_count": 4,
   "metadata": {},
   "outputs": [
    {
     "name": "stdout",
     "output_type": "stream",
     "text": [
      "(2606, 60, 60, 3) (2606, 2)\n"
     ]
    }
   ],
   "source": [
    "def load_dataset(path, split=0.8):\n",
    "    X = []\n",
    "    Y = []\n",
    "    data = []\n",
    "    with open(path,\"r\") as f:\n",
    "        reader = csv.reader(f)\n",
    "        for row in reader:\n",
    "            (name, label) = tuple(row)\n",
    "            data.append((cv2.imread(name), int(label)))\n",
    "        random.shuffle(data)\n",
    "        X = [d[0] for d in data]\n",
    "        Y = [d[1] for d in data]\n",
    "        Y = to_categorical(Y)\n",
    "        Xtrain = X[:int(0.6*len(X))]\n",
    "        Xval = X[int(0.6*len(X)):int(0.8*len(X))]\n",
    "        Xtest = X[int(0.8*len(X)):]\n",
    "        Ytrain = Y[:int(0.6*len(Y))]\n",
    "        Yval = Y[int(0.6*len(Y)):int(0.8*len(Y))]\n",
    "        Ytest = Y[int(0.8*len(Y)):]\n",
    "    return (np.asarray(Xtrain), Ytrain, np.asarray(Xval), Yval, np.asarray(Xtest), Ytest)\n",
    "(Xtrain, Ytrain, Xval, Yval, Xtest,Ytest) = load_dataset(detect+\"detection_labels.csv\")\n",
    "Xtrain = np.concatenate((Xtrain, Xval))\n",
    "Ytrain = np.concatenate((Ytrain, Yval))\n",
    "print(Xtrain.shape, Ytrain.shape)"
   ]
  },
  {
   "cell_type": "code",
   "execution_count": 5,
   "metadata": {},
   "outputs": [],
   "source": [
    "def prep_data(X):\n",
    "    #0 mean centering and normalization? Need?\n",
    "    pass"
   ]
  },
  {
   "cell_type": "code",
   "execution_count": 6,
   "metadata": {},
   "outputs": [
    {
     "name": "stdout",
     "output_type": "stream",
     "text": [
      "WARNING:tensorflow:From /Users/dnyanadajoshi/anaconda3/lib/python3.7/site-packages/tensorflow/python/framework/op_def_library.py:263: colocate_with (from tensorflow.python.framework.ops) is deprecated and will be removed in a future version.\n",
      "Instructions for updating:\n",
      "Colocations handled automatically by placer.\n"
     ]
    }
   ],
   "source": [
    "def Model(learn_rate = 0.01, n_layers=1, n_feature_maps=32,  mm = 0.9, ):\n",
    "    model = Sequential()\n",
    "    for i in range(n_layers):\n",
    "        model.add(Conv2D(n_feature_maps, (3, 3), activation='relu', kernel_initializer='he_uniform', input_shape=(60, 60, 3)))\n",
    "        model.add(BatchNormalization())\n",
    "    model.add(MaxPooling2D((2, 2)))\n",
    "    model.add(Flatten())\n",
    "    model.add(Dense(100, activation='relu', kernel_initializer='he_uniform'))\n",
    "    model.add(BatchNormalization())\n",
    "    model.add(Dense(2, activation='softmax'))\n",
    "    # compile model\n",
    "    opt = SGD(lr=learn_rate, momentum=mm)\n",
    "    model.compile(optimizer=opt, loss='categorical_crossentropy', metrics=['accuracy'])\n",
    "    return model\n",
    "model = Model()\n",
    "plot_model(model, to_file=results+'model.png', show_shapes=True)"
   ]
  },
  {
   "cell_type": "code",
   "execution_count": 8,
   "metadata": {
    "scrolled": true
   },
   "outputs": [
    {
     "name": "stdout",
     "output_type": "stream",
     "text": [
      "WARNING:tensorflow:From /Users/dnyanadajoshi/anaconda3/lib/python3.7/site-packages/tensorflow/python/ops/math_ops.py:3066: to_int32 (from tensorflow.python.ops.math_ops) is deprecated and will be removed in a future version.\n",
      "Instructions for updating:\n",
      "Use tf.cast instead.\n",
      "Train on 1954 samples, validate on 652 samples\n",
      "Epoch 1/20\n",
      "1954/1954 [==============================] - 11s 6ms/step - loss: 0.4420 - acc: 0.8327 - val_loss: 0.3039 - val_acc: 0.8896\n",
      "Epoch 2/20\n",
      "1954/1954 [==============================] - 11s 6ms/step - loss: 0.2605 - acc: 0.8936 - val_loss: 0.2821 - val_acc: 0.8926\n",
      "Epoch 3/20\n",
      "1954/1954 [==============================] - 9s 5ms/step - loss: 0.1394 - acc: 0.9452 - val_loss: 0.3685 - val_acc: 0.8650\n",
      "Epoch 4/20\n",
      "1954/1954 [==============================] - 9s 5ms/step - loss: 0.1419 - acc: 0.9509 - val_loss: 0.3353 - val_acc: 0.8911\n",
      "Epoch 5/20\n",
      "1954/1954 [==============================] - 9s 5ms/step - loss: 0.0847 - acc: 0.9703 - val_loss: 0.3582 - val_acc: 0.9064\n",
      "Epoch 6/20\n",
      "1954/1954 [==============================] - 9s 5ms/step - loss: 0.0522 - acc: 0.9826 - val_loss: 1.2615 - val_acc: 0.7209\n",
      "Epoch 7/20\n",
      "1954/1954 [==============================] - 9s 5ms/step - loss: 0.0375 - acc: 0.9867 - val_loss: 0.3541 - val_acc: 0.9110\n",
      "Epoch 8/20\n",
      "1954/1954 [==============================] - 10s 5ms/step - loss: 0.0447 - acc: 0.9867 - val_loss: 0.4527 - val_acc: 0.9172\n",
      "Epoch 9/20\n",
      "1954/1954 [==============================] - 9s 5ms/step - loss: 0.0246 - acc: 0.9939 - val_loss: 0.3860 - val_acc: 0.9279\n",
      "Epoch 10/20\n",
      "1954/1954 [==============================] - 9s 5ms/step - loss: 0.0156 - acc: 0.9949 - val_loss: 0.3443 - val_acc: 0.9279\n",
      "Epoch 11/20\n",
      "1954/1954 [==============================] - 9s 5ms/step - loss: 0.0103 - acc: 0.9980 - val_loss: 0.4513 - val_acc: 0.9218\n",
      "Epoch 12/20\n",
      "1954/1954 [==============================] - 9s 5ms/step - loss: 0.0094 - acc: 0.9974 - val_loss: 0.4850 - val_acc: 0.8865\n",
      "Epoch 13/20\n",
      "1954/1954 [==============================] - 10s 5ms/step - loss: 0.0053 - acc: 0.9990 - val_loss: 0.4663 - val_acc: 0.9141\n",
      "Epoch 14/20\n",
      "1954/1954 [==============================] - 9s 5ms/step - loss: 0.0261 - acc: 0.9928 - val_loss: 0.5565 - val_acc: 0.9110\n",
      "Epoch 15/20\n",
      "1954/1954 [==============================] - 10s 5ms/step - loss: 0.0231 - acc: 0.9933 - val_loss: 0.5590 - val_acc: 0.8834\n",
      "Epoch 16/20\n",
      "1954/1954 [==============================] - 10s 5ms/step - loss: 0.0889 - acc: 0.9642 - val_loss: 0.4781 - val_acc: 0.8512\n",
      "Epoch 17/20\n",
      "1954/1954 [==============================] - 9s 5ms/step - loss: 0.0660 - acc: 0.9759 - val_loss: 0.4946 - val_acc: 0.8650\n",
      "Epoch 18/20\n",
      "1954/1954 [==============================] - 10s 5ms/step - loss: 0.0329 - acc: 0.9898 - val_loss: 0.5140 - val_acc: 0.9003\n",
      "Epoch 19/20\n",
      "1954/1954 [==============================] - 10s 5ms/step - loss: 0.0227 - acc: 0.9933 - val_loss: 0.5262 - val_acc: 0.8742\n",
      "Epoch 20/20\n",
      "1954/1954 [==============================] - 11s 5ms/step - loss: 0.0275 - acc: 0.9913 - val_loss: 4.1336 - val_acc: 0.6380\n"
     ]
    }
   ],
   "source": [
    "#Use sklearn train test split, also use test data separately\n",
    "def train(model, train, val, n_epochs=20):\n",
    "    trainx, trainy = train[0], train[1]\n",
    "    valx, valy = val[0], val[1]\n",
    "    return model.fit(trainx, trainy, validation_data=(valx, valy), epochs=n_epochs)\n",
    "history = train(model, (Xtrain, Ytrain), (Xval, Yval))"
   ]
  },
  {
   "cell_type": "code",
   "execution_count": null,
   "metadata": {},
   "outputs": [
    {
     "name": "stderr",
     "output_type": "stream",
     "text": [
      "/Users/dnyanadajoshi/anaconda3/lib/python3.7/site-packages/sklearn/model_selection/_split.py:2053: FutureWarning: You should specify a value for 'cv' instead of relying on the default value. The default value will change from 3 to 5 in version 0.22.\n",
      "  warnings.warn(CV_WARNING, FutureWarning)\n"
     ]
    },
    {
     "name": "stdout",
     "output_type": "stream",
     "text": [
      "WARNING:tensorflow:From /Users/dnyanadajoshi/anaconda3/lib/python3.7/site-packages/tensorflow/python/ops/math_ops.py:3066: to_int32 (from tensorflow.python.ops.math_ops) is deprecated and will be removed in a future version.\n",
      "Instructions for updating:\n",
      "Use tf.cast instead.\n",
      "Epoch 1/10\n"
     ]
    }
   ],
   "source": [
    "#Grid search \n",
    "model = KerasClassifier(build_fn=Model, epochs = 10, batch_size = 16)\n",
    "lr = [0.01, 0.005]\n",
    "layers = [2,3]\n",
    "features = [32]\n",
    "param_grid = dict(learn_rate=lr, n_layers = layers, n_feature_maps=features)\n",
    "grid = GridSearchCV(estimator=model, param_grid=param_grid)\n",
    "grid_result = grid.fit(Xtrain, Ytrain)\n",
    "print(\"Best: %f using %s\" % (grid_result.best_score_, grid_result.best_params_))\n",
    "for params, mean_score, scores in grid_result.grid_scores_:\n",
    "    print(\"%f (%f) with: %r\" % (scores.mean(), scores.std(), params))\n",
    "print(\"total time:\",time()-start)"
   ]
  },
  {
   "cell_type": "code",
   "execution_count": 9,
   "metadata": {
    "scrolled": true
   },
   "outputs": [
    {
     "name": "stdout",
     "output_type": "stream",
     "text": [
      "loss :  4.076985095907574\n",
      "acc :  0.6288343561938935\n"
     ]
    }
   ],
   "source": [
    "def evaluate(Xtest, Ytest, metrics):\n",
    "    scores = model.evaluate(Xtest, Ytest,verbose=0)\n",
    "    for m in range(len(metrics)):\n",
    "        print(metrics[m],\": \",scores[m])\n",
    "evaluate(Xtest, Ytest, model.metrics_names)"
   ]
  },
  {
   "cell_type": "code",
   "execution_count": 15,
   "metadata": {},
   "outputs": [
    {
     "name": "stdout",
     "output_type": "stream",
     "text": [
      "{'val_loss': [0.3038974774578598, 0.2821037877648155, 0.36854379893811934, 0.3353429155115701, 0.3581763938800689, 1.2614925361118434, 0.35411182183063833, 0.45270876421884526, 0.3860164413834276, 0.34432427779388575, 0.4512522805230749, 0.48503617658936904, 0.46628384536097933, 0.5565022290484306, 0.5589508600761554, 0.47812816829769156, 0.4946437609707651, 0.5140138356232204, 0.5261993367979132, 4.133640805636447], 'val_acc': [0.8895705521472392, 0.8926380368098159, 0.8650306752122985, 0.8911042944785276, 0.9064417181570837, 0.7208588960711941, 0.9110429451509487, 0.9171779144761021, 0.9279141104294478, 0.9279141104294478, 0.9217791414699672, 0.88650306711899, 0.9141104294478528, 0.9110429451509487, 0.8834355824564132, 0.8512269942307034, 0.8650306752122985, 0.900306748100585, 0.8742331292000285, 0.6380368098159509], 'loss': [0.4419620857024022, 0.26054692092974086, 0.13941938288990283, 0.14185502423600752, 0.08470722040769156, 0.05216546414826092, 0.037450992203905735, 0.04465172175954772, 0.02456748464747159, 0.015581475125929339, 0.010330214879736545, 0.009357312774085969, 0.005308042936210074, 0.026131722416458013, 0.023085979893498556, 0.08891127805703128, 0.06601068534339734, 0.032898325128352106, 0.0226909909731596, 0.027476028681274203], 'acc': [0.8326509723643808, 0.8935516888433982, 0.9452405322415558, 0.9508700102354145, 0.970317297850563, 0.9825997952917093, 0.9866939611054247, 0.9866939611054247, 0.9938587512794268, 0.9948822927328557, 0.9979529170931423, 0.9974411463664279, 0.9989764585465711, 0.9928352098259979, 0.9933469805527124, 0.9641760491299898, 0.9759467758444217, 0.9897645854657113, 0.9933469805527124, 0.9912998976458547]}\n"
     ]
    }
   ],
   "source": [
    "print(history.history)\n",
    "val_acc = history.history['val_acc']\n",
    "loss = history.history['loss']\n",
    "acc = history.history['acc']\n",
    "val_loss = history.history['val_loss']\n",
    "f = open(\"results.csv\",\"w\")\n",
    "writer = csv.writer(f)\n",
    "for i in range(len(val_acc)):\n",
    "    writer.writerow([acc[i], loss[i], val_acc[i], val_loss[i]])"
   ]
  },
  {
   "cell_type": "code",
   "execution_count": 10,
   "metadata": {},
   "outputs": [],
   "source": [
    "df = pd.read_csv(\"results.csv\",header=None, names=[\"acc\", \"loss\", \"val_acc\",\"val_loss\"])\n",
    "val_loss = list(df[\"val_loss\"])\n",
    "loss = list(df[\"loss\"])\n",
    "val_loss = list(df[\"val_loss\"])\n",
    "loss = list(df[\"loss\"])"
   ]
  },
  {
   "cell_type": "code",
   "execution_count": 14,
   "metadata": {},
   "outputs": [
    {
     "data": {
      "image/png": "[encoded data removed]",
      "text/plain": [
       "<Figure size 432x288 with 1 Axes>"
      ]
     },
     "metadata": {
      "needs_background": "light"
     },
     "output_type": "display_data"
    }
   ],
   "source": [
    "plt.xlabel(\"Epochs\")\n",
    "plt.ylabel(\"Accuracy\")\n",
    "plt.plot(df[\"acc\"])\n",
    "plt.plot(df[\"val_acc\"])\n",
    "plt.ylim(0, 1.5)\n",
    "plt.xlim(0,20)\n",
    "plt.grid()\n",
    "plt.legend(['Training acc','Validation acc'],loc=\"upper right\")\n",
    "plt.show()"
   ]
  },
  {
   "cell_type": "code",
   "execution_count": null,
   "metadata": {},
   "outputs": [],
   "source": []
  },
  {
   "cell_type": "code",
   "execution_count": null,
   "metadata": {},
   "outputs": [],
   "source": []
  }
 ],
 "metadata": {
  "kernelspec": {
   "display_name": "Python 3",
   "language": "python",
   "name": "python3"
  },
  "language_info": {
   "codemirror_mode": {
    "name": "ipython",
    "version": 3
   },
   "file_extension": ".py",
   "mimetype": "text/x-python",
   "name": "python",
   "nbconvert_exporter": "python",
   "pygments_lexer": "ipython3",
   "version": "3.7.3"
  }
 },
 "nbformat": 4,
 "nbformat_minor": 2
}
